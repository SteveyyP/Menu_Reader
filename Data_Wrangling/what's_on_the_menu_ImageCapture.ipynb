{
  "nbformat": 4,
  "nbformat_minor": 0,
  "metadata": {
    "kernelspec": {
      "display_name": "Python 3",
      "language": "python",
      "name": "python3"
    },
    "language_info": {
      "codemirror_mode": {
        "name": "ipython",
        "version": 3
      },
      "file_extension": ".py",
      "mimetype": "text/x-python",
      "name": "python",
      "nbconvert_exporter": "python",
      "pygments_lexer": "ipython3",
      "version": "3.7.4"
    },
    "colab": {
      "name": "what's-on-the-menu_ImageCapture.ipynb",
      "provenance": [],
      "collapsed_sections": [],
      "toc_visible": true
    }
  },
  "cells": [
    {
      "cell_type": "markdown",
      "metadata": {
        "id": "gC5qi22h5X3W",
        "colab_type": "text"
      },
      "source": [
        "# Data Wrangling - Whats-on-the-menu\n",
        "\n",
        "This notebook wrangles all of the image data from the nypl dataset, 'whats-on-the-menu'"
      ]
    },
    {
      "cell_type": "code",
      "metadata": {
        "id": "ppAdr7sP5X3X",
        "colab_type": "code",
        "colab": {}
      },
      "source": [
        "# Import Libraries\n",
        "import pandas as pd\n",
        "import numpy as np\n",
        "import os\n",
        "import requests\n",
        "import json\n",
        "from bs4 import BeautifulSoup\n",
        "import time"
      ],
      "execution_count": 0,
      "outputs": []
    },
    {
      "cell_type": "code",
      "metadata": {
        "id": "t1p8qOCPFsnK",
        "colab_type": "code",
        "colab": {
          "base_uri": "https://localhost:8080/",
          "height": 122
        },
        "outputId": "f894ffe2-8184-4995-b828-af4efc13d432"
      },
      "source": [
        "# Mount Drive\n",
        "from google.colab import drive\n",
        "drive.mount('/content/drive')"
      ],
      "execution_count": 13,
      "outputs": [
        {
          "output_type": "stream",
          "text": [
            "Go to this URL in a browser: https://accounts.google.com/o/oauth2/auth?client_id=947318989803-6bn6qk8qdgf4n4g3pfee6491hc0brc4i.apps.googleusercontent.com&redirect_uri=urn%3aietf%3awg%3aoauth%3a2.0%3aoob&response_type=code&scope=email%20https%3a%2f%2fwww.googleapis.com%2fauth%2fdocs.test%20https%3a%2f%2fwww.googleapis.com%2fauth%2fdrive%20https%3a%2f%2fwww.googleapis.com%2fauth%2fdrive.photos.readonly%20https%3a%2f%2fwww.googleapis.com%2fauth%2fpeopleapi.readonly\n",
            "\n",
            "Enter your authorization code:\n",
            "··········\n",
            "Mounted at /content/drive\n"
          ],
          "name": "stdout"
        }
      ]
    },
    {
      "cell_type": "code",
      "metadata": {
        "id": "7UZYZSOw5X3d",
        "colab_type": "code",
        "colab": {}
      },
      "source": [
        "# Load in data\n",
        "current = os.getcwd()\n",
        "whatsOnTheMenu = '/drive/My Drive/Menu_Parser_Datasets/whats-on-the-menu/Menu_Data/'\n",
        "filePath1 = current + whatsOnTheMenu + 'MenuPage.csv'\n",
        "filePath2 = current + whatsOnTheMenu + 'Menu.csv'\n",
        "filePath3 = current + whatsOnTheMenu + 'Dish.csv'\n",
        "filePath4 = current + whatsOnTheMenu + 'MenuItem.csv'\n",
        "\n",
        "df_page = pd.read_csv(filePath1)\n",
        "df_menu = pd.read_csv(filePath2)\n",
        "df_dish = pd.read_csv(filePath3)\n",
        "df_item = pd.read_csv(filePath4)"
      ],
      "execution_count": 0,
      "outputs": []
    },
    {
      "cell_type": "markdown",
      "metadata": {
        "id": "Ht4Ri-MqOihv",
        "colab_type": "text"
      },
      "source": [
        "## List of Menu ID's\n",
        "\n",
        "The first step is to create a list of all menu ID's. This list will be used to generate a URL for each menu image to download. Once the URLs are generated, they are stored in a list, that will be called to download the corresponding menu image"
      ]
    },
    {
      "cell_type": "code",
      "metadata": {
        "id": "j2wp6kax5X3s",
        "colab_type": "code",
        "colab": {
          "base_uri": "https://localhost:8080/",
          "height": 34
        },
        "outputId": "3528b6a5-c70a-4352-e252-aebec1229b4c"
      },
      "source": [
        "# Create a list of all menu_id\n",
        "id_list = df_page['menu_id'].unique().tolist()\n",
        "id_list[:5]"
      ],
      "execution_count": 19,
      "outputs": [
        {
          "output_type": "execute_result",
          "data": {
            "text/plain": [
              "[12460, 12461, 12462, 12463, 12464]"
            ]
          },
          "metadata": {
            "tags": []
          },
          "execution_count": 19
        }
      ]
    },
    {
      "cell_type": "code",
      "metadata": {
        "id": "OQnuUGjE5X3u",
        "colab_type": "code",
        "colab": {
          "base_uri": "https://localhost:8080/",
          "height": 54
        },
        "outputId": "eb554d2d-ad7c-4e5b-ecef-7f4aabec1a03"
      },
      "source": [
        "# Build URL List for request\n",
        "APIKEY = 'removed'\n",
        "    \n",
        "id_len = len(id_list)\n",
        "urlList = []\n",
        "for i in range(id_len):\n",
        "    url = \"http://api.menus.nypl.org/menus/\" + str(id_list[i]) + \"?token=\" + APIKEY\n",
        "    urlList.append(url)\n",
        "\n",
        "print(urlList[:10])"
      ],
      "execution_count": 34,
      "outputs": [
        {
          "output_type": "stream",
          "text": [
            "['http://api.menus.nypl.org/menus/12460?token=removed', 'http://api.menus.nypl.org/menus/12461?token=removed', 'http://api.menus.nypl.org/menus/12462?token=removed', 'http://api.menus.nypl.org/menus/12463?token=removed', 'http://api.menus.nypl.org/menus/12464?token=removed', 'http://api.menus.nypl.org/menus/12465?token=removed', 'http://api.menus.nypl.org/menus/12466?token=removed', 'http://api.menus.nypl.org/menus/12467?token=removed', 'http://api.menus.nypl.org/menus/12468?token=removed', 'http://api.menus.nypl.org/menus/12469?token=removed']\n"
          ],
          "name": "stdout"
        }
      ]
    },
    {
      "cell_type": "code",
      "metadata": {
        "id": "2CkuxX865X3w",
        "colab_type": "code",
        "colab": {
          "base_uri": "https://localhost:8080/",
          "height": 34
        },
        "outputId": "b1d2db8e-2f6b-455a-997a-ab8566921f66"
      },
      "source": [
        "# Get Data via Request call\n",
        "r = requests.get(urlList[0])\n",
        "print(r.status_code)"
      ],
      "execution_count": 22,
      "outputs": [
        {
          "output_type": "stream",
          "text": [
            "200\n"
          ],
          "name": "stdout"
        }
      ]
    },
    {
      "cell_type": "code",
      "metadata": {
        "id": "4GAIqESR5X3x",
        "colab_type": "code",
        "colab": {
          "base_uri": "https://localhost:8080/",
          "height": 581
        },
        "outputId": "380e16d0-02d8-4391-80d0-399f5996bbf2"
      },
      "source": [
        "# Check to see how data is formated, and what the necessary json data is, to download images\n",
        "json_data = r.json()\n",
        "json_data"
      ],
      "execution_count": 23,
      "outputs": [
        {
          "output_type": "execute_result",
          "data": {
            "text/plain": [
              "{'call_number': '1956-0000',\n",
              " 'currency': None,\n",
              " 'currency_symbol': None,\n",
              " 'day': 2,\n",
              " 'dish_count': 0,\n",
              " 'event': 'DAILY MENU',\n",
              " 'first_page_aspect': 'portrait',\n",
              " 'first_page_full_height': 7230,\n",
              " 'first_page_full_width': 5428,\n",
              " 'id': 12460,\n",
              " 'keywords': None,\n",
              " 'language': None,\n",
              " 'large_src': 'http://images.nypl.org/index.php?id=1603595&t=w',\n",
              " 'large_src_jp2': 'http://j2k.repo.nypl.org/adore-djatoka/resolver?url_ver=Z39.88-2004&rft_id=urn:uuid:510d47e4-2955-a3d9-e040-e00a18064a99&svc_id=info:lanl-repo/svc/getRegion&svc_val_fmt=info:ofi/fmt:kev:mtx:jpeg2000&svc.format=image/jpeg&svc.scale=1800,0&svc.rotate=0',\n",
              " 'links': [{'href': 'http://api.menus.nypl.org/menus', 'rel': 'index'},\n",
              "  {'href': 'http://api.menus.nypl.org/menus/12460/pages', 'rel': 'pages'},\n",
              "  {'href': 'http://api.menus.nypl.org/menus/12460/dishes', 'rel': 'dishes'}],\n",
              " 'location': 'Monterey Coffee Shop And Cocktail Lounge',\n",
              " 'location_type': None,\n",
              " 'month': 4,\n",
              " 'name': None,\n",
              " 'notes': 'PRICED MENU PRINTED IN BLACK INK ON WHITE BACKGROUND; CATEGORY HEADINGS ARE IN RED; SPECIALS ON SEPARATE PAGE STAPLED TO MENU; WINE  AND COCKTIAL LIST ON BACK COVER IN RED; STRETCH OF RESTAURANT STREET SCENE; IN OUT OF PLACE BOX',\n",
              " 'occasion': '',\n",
              " 'page_count': 4,\n",
              " 'physical_description': 'FOLDER; ILLUS; COL; 9.75 X 13',\n",
              " 'place': 'NEW YORK, NY',\n",
              " 'sponsor': 'MONTEREY COFFEE SHOP AND COCKTAIL LOUNGE',\n",
              " 'status': None,\n",
              " 'thumbnail_src': 'http://images.nypl.org/index.php?id=1603595&t=r',\n",
              " 'thumbnail_src_jp2': 'http://j2k.repo.nypl.org/adore-djatoka/resolver?url_ver=Z39.88-2004&rft_id=urn:uuid:510d47e4-2955-a3d9-e040-e00a18064a99&svc_id=info:lanl-repo/svc/getRegion&svc_val_fmt=info:ofi/fmt:kev:mtx:jpeg2000&svc.format=image/jpeg&svc.scale=108,108&svc.region=1141,240,4948,4948&svc.rotate=0',\n",
              " 'venue': 'RESTAURANT',\n",
              " 'year': 1956}"
            ]
          },
          "metadata": {
            "tags": []
          },
          "execution_count": 23
        }
      ]
    },
    {
      "cell_type": "markdown",
      "metadata": {
        "id": "8MsAAhKQ5X3z",
        "colab_type": "text"
      },
      "source": [
        "To download images, the ['large_src'] and ['large_src_jp2'] keys are required"
      ]
    },
    {
      "cell_type": "code",
      "metadata": {
        "id": "6rYQruF15X3z",
        "colab_type": "code",
        "colab": {
          "base_uri": "https://localhost:8080/",
          "height": 34
        },
        "outputId": "f70e7475-0a57-47e0-e482-5f5d70d88423"
      },
      "source": [
        "len(id_list)"
      ],
      "execution_count": 24,
      "outputs": [
        {
          "output_type": "execute_result",
          "data": {
            "text/plain": [
              "19816"
            ]
          },
          "metadata": {
            "tags": []
          },
          "execution_count": 24
        }
      ]
    },
    {
      "cell_type": "markdown",
      "metadata": {
        "id": "O1rOaOHcO4mp",
        "colab_type": "text"
      },
      "source": [
        "## Capture Images\n",
        "\n",
        "Here we have our imageCapture() function that iterates through the urlList and downloads all of our menu images"
      ]
    },
    {
      "cell_type": "code",
      "metadata": {
        "id": "0RlmfH6j5X30",
        "colab_type": "code",
        "colab": {}
      },
      "source": [
        "def imageCapture(urlList, id_list, src = 'large_src', startIndex = 0):\n",
        "    \n",
        "    assert len(urlList) == len(id_list), 'urlList and id_list are different sizes'\n",
        "    \n",
        "    for i in range(len(urlList[startIndex:])):\n",
        "        time.sleep(0.5)\n",
        "        r = requests.get(urlList[i+startIndex])\n",
        "        if r.status_code == 200:\n",
        "            json_data = r.json()\n",
        "            response = requests.get(json_data[src])\n",
        "            if response.status_code == 200:\n",
        "                fileName = \"/content/drive/My Drive/Menu_Parser_Datasets/whats-on-the-menu/Menu_Image_Data/\" + str(id_list[i+startIndex]) + \".jpg\"\n",
        "                with open(fileName, 'wb') as f:\n",
        "                    f.write(response.content)\n",
        "                    print('Completed Loop Iteration ' + str(i+startIndex) + ' of ' + str(len(id_list)))\n",
        "            else:\n",
        "                print('Response was not okay')\n",
        "                print('On loop iteration: ', i+startIndex)\n",
        "        else:\n",
        "            print('URL Response was not okay. Got status code: ', r.status_code)\n",
        "            print('On loop iteration: ', i+startIndex)\n",
        "            print('Terminating Loop')\n",
        "        \n",
        "    print('Done')\n",
        "    return 0"
      ],
      "execution_count": 0,
      "outputs": []
    },
    {
      "cell_type": "code",
      "metadata": {
        "id": "kATX-_gf5X31",
        "colab_type": "code",
        "colab": {
          "base_uri": "https://localhost:8080/",
          "height": 324
        },
        "outputId": "ef6d7fe6-5dd6-4662-caff-85a01abcf990"
      },
      "source": [
        "# Collect Image Data\n",
        "imageCapture(urlList=urlList, id_list=id_list, src='large_src', startIndex=0)"
      ],
      "execution_count": 33,
      "outputs": [
        {
          "output_type": "stream",
          "text": [
            "Completed Loop Iteration 0 of 19816\n"
          ],
          "name": "stdout"
        },
        {
          "output_type": "error",
          "ename": "KeyboardInterrupt",
          "evalue": "ignored",
          "traceback": [
            "\u001b[0;31m---------------------------------------------------------------------------\u001b[0m",
            "\u001b[0;31mKeyboardInterrupt\u001b[0m                         Traceback (most recent call last)",
            "\u001b[0;32m<ipython-input-33-10aace5fa690>\u001b[0m in \u001b[0;36m<module>\u001b[0;34m()\u001b[0m\n\u001b[0;32m----> 1\u001b[0;31m \u001b[0mimageCapture\u001b[0m\u001b[0;34m(\u001b[0m\u001b[0murlList\u001b[0m\u001b[0;34m=\u001b[0m\u001b[0murlList\u001b[0m\u001b[0;34m,\u001b[0m \u001b[0mid_list\u001b[0m\u001b[0;34m=\u001b[0m\u001b[0mid_list\u001b[0m\u001b[0;34m,\u001b[0m \u001b[0msrc\u001b[0m\u001b[0;34m=\u001b[0m\u001b[0;34m'large_src'\u001b[0m\u001b[0;34m,\u001b[0m \u001b[0mstartIndex\u001b[0m\u001b[0;34m=\u001b[0m\u001b[0;36m0\u001b[0m\u001b[0;34m)\u001b[0m\u001b[0;34m\u001b[0m\u001b[0;34m\u001b[0m\u001b[0m\n\u001b[0m",
            "\u001b[0;32m<ipython-input-32-06bfd8ed4f77>\u001b[0m in \u001b[0;36mimageCapture\u001b[0;34m(urlList, id_list, src, startIndex)\u001b[0m\n\u001b[1;32m      8\u001b[0m         \u001b[0;32mif\u001b[0m \u001b[0mr\u001b[0m\u001b[0;34m.\u001b[0m\u001b[0mstatus_code\u001b[0m \u001b[0;34m==\u001b[0m \u001b[0;36m200\u001b[0m\u001b[0;34m:\u001b[0m\u001b[0;34m\u001b[0m\u001b[0;34m\u001b[0m\u001b[0m\n\u001b[1;32m      9\u001b[0m             \u001b[0mjson_data\u001b[0m \u001b[0;34m=\u001b[0m \u001b[0mr\u001b[0m\u001b[0;34m.\u001b[0m\u001b[0mjson\u001b[0m\u001b[0;34m(\u001b[0m\u001b[0;34m)\u001b[0m\u001b[0;34m\u001b[0m\u001b[0;34m\u001b[0m\u001b[0m\n\u001b[0;32m---> 10\u001b[0;31m             \u001b[0mresponse\u001b[0m \u001b[0;34m=\u001b[0m \u001b[0mrequests\u001b[0m\u001b[0;34m.\u001b[0m\u001b[0mget\u001b[0m\u001b[0;34m(\u001b[0m\u001b[0mjson_data\u001b[0m\u001b[0;34m[\u001b[0m\u001b[0msrc\u001b[0m\u001b[0;34m]\u001b[0m\u001b[0;34m)\u001b[0m\u001b[0;34m\u001b[0m\u001b[0;34m\u001b[0m\u001b[0m\n\u001b[0m\u001b[1;32m     11\u001b[0m             \u001b[0;32mif\u001b[0m \u001b[0mresponse\u001b[0m\u001b[0;34m.\u001b[0m\u001b[0mstatus_code\u001b[0m \u001b[0;34m==\u001b[0m \u001b[0;36m200\u001b[0m\u001b[0;34m:\u001b[0m\u001b[0;34m\u001b[0m\u001b[0;34m\u001b[0m\u001b[0m\n\u001b[1;32m     12\u001b[0m                 \u001b[0mfileName\u001b[0m \u001b[0;34m=\u001b[0m \u001b[0;34m\"/content/drive/My Drive/Menu_Parser_Datasets/whats-on-the-menu/Menu_Image_Data/\"\u001b[0m \u001b[0;34m+\u001b[0m \u001b[0mstr\u001b[0m\u001b[0;34m(\u001b[0m\u001b[0mid_list\u001b[0m\u001b[0;34m[\u001b[0m\u001b[0mi\u001b[0m\u001b[0;34m+\u001b[0m\u001b[0mstartIndex\u001b[0m\u001b[0;34m]\u001b[0m\u001b[0;34m)\u001b[0m \u001b[0;34m+\u001b[0m \u001b[0;34m\".jpg\"\u001b[0m\u001b[0;34m\u001b[0m\u001b[0;34m\u001b[0m\u001b[0m\n",
            "\u001b[0;32m/usr/local/lib/python3.6/dist-packages/requests/api.py\u001b[0m in \u001b[0;36mget\u001b[0;34m(url, params, **kwargs)\u001b[0m\n\u001b[1;32m     73\u001b[0m \u001b[0;34m\u001b[0m\u001b[0m\n\u001b[1;32m     74\u001b[0m     \u001b[0mkwargs\u001b[0m\u001b[0;34m.\u001b[0m\u001b[0msetdefault\u001b[0m\u001b[0;34m(\u001b[0m\u001b[0;34m'allow_redirects'\u001b[0m\u001b[0;34m,\u001b[0m \u001b[0;32mTrue\u001b[0m\u001b[0;34m)\u001b[0m\u001b[0;34m\u001b[0m\u001b[0;34m\u001b[0m\u001b[0m\n\u001b[0;32m---> 75\u001b[0;31m     \u001b[0;32mreturn\u001b[0m \u001b[0mrequest\u001b[0m\u001b[0;34m(\u001b[0m\u001b[0;34m'get'\u001b[0m\u001b[0;34m,\u001b[0m \u001b[0murl\u001b[0m\u001b[0;34m,\u001b[0m \u001b[0mparams\u001b[0m\u001b[0;34m=\u001b[0m\u001b[0mparams\u001b[0m\u001b[0;34m,\u001b[0m \u001b[0;34m**\u001b[0m\u001b[0mkwargs\u001b[0m\u001b[0;34m)\u001b[0m\u001b[0;34m\u001b[0m\u001b[0;34m\u001b[0m\u001b[0m\n\u001b[0m\u001b[1;32m     76\u001b[0m \u001b[0;34m\u001b[0m\u001b[0m\n\u001b[1;32m     77\u001b[0m \u001b[0;34m\u001b[0m\u001b[0m\n",
            "\u001b[0;32m/usr/local/lib/python3.6/dist-packages/requests/api.py\u001b[0m in \u001b[0;36mrequest\u001b[0;34m(method, url, **kwargs)\u001b[0m\n\u001b[1;32m     58\u001b[0m     \u001b[0;31m# cases, and look like a memory leak in others.\u001b[0m\u001b[0;34m\u001b[0m\u001b[0;34m\u001b[0m\u001b[0;34m\u001b[0m\u001b[0m\n\u001b[1;32m     59\u001b[0m     \u001b[0;32mwith\u001b[0m \u001b[0msessions\u001b[0m\u001b[0;34m.\u001b[0m\u001b[0mSession\u001b[0m\u001b[0;34m(\u001b[0m\u001b[0;34m)\u001b[0m \u001b[0;32mas\u001b[0m \u001b[0msession\u001b[0m\u001b[0;34m:\u001b[0m\u001b[0;34m\u001b[0m\u001b[0;34m\u001b[0m\u001b[0m\n\u001b[0;32m---> 60\u001b[0;31m         \u001b[0;32mreturn\u001b[0m \u001b[0msession\u001b[0m\u001b[0;34m.\u001b[0m\u001b[0mrequest\u001b[0m\u001b[0;34m(\u001b[0m\u001b[0mmethod\u001b[0m\u001b[0;34m=\u001b[0m\u001b[0mmethod\u001b[0m\u001b[0;34m,\u001b[0m \u001b[0murl\u001b[0m\u001b[0;34m=\u001b[0m\u001b[0murl\u001b[0m\u001b[0;34m,\u001b[0m \u001b[0;34m**\u001b[0m\u001b[0mkwargs\u001b[0m\u001b[0;34m)\u001b[0m\u001b[0;34m\u001b[0m\u001b[0;34m\u001b[0m\u001b[0m\n\u001b[0m\u001b[1;32m     61\u001b[0m \u001b[0;34m\u001b[0m\u001b[0m\n\u001b[1;32m     62\u001b[0m \u001b[0;34m\u001b[0m\u001b[0m\n",
            "\u001b[0;32m/usr/local/lib/python3.6/dist-packages/requests/sessions.py\u001b[0m in \u001b[0;36mrequest\u001b[0;34m(self, method, url, params, data, headers, cookies, files, auth, timeout, allow_redirects, proxies, hooks, stream, verify, cert, json)\u001b[0m\n\u001b[1;32m    531\u001b[0m         }\n\u001b[1;32m    532\u001b[0m         \u001b[0msend_kwargs\u001b[0m\u001b[0;34m.\u001b[0m\u001b[0mupdate\u001b[0m\u001b[0;34m(\u001b[0m\u001b[0msettings\u001b[0m\u001b[0;34m)\u001b[0m\u001b[0;34m\u001b[0m\u001b[0;34m\u001b[0m\u001b[0m\n\u001b[0;32m--> 533\u001b[0;31m         \u001b[0mresp\u001b[0m \u001b[0;34m=\u001b[0m \u001b[0mself\u001b[0m\u001b[0;34m.\u001b[0m\u001b[0msend\u001b[0m\u001b[0;34m(\u001b[0m\u001b[0mprep\u001b[0m\u001b[0;34m,\u001b[0m \u001b[0;34m**\u001b[0m\u001b[0msend_kwargs\u001b[0m\u001b[0;34m)\u001b[0m\u001b[0;34m\u001b[0m\u001b[0;34m\u001b[0m\u001b[0m\n\u001b[0m\u001b[1;32m    534\u001b[0m \u001b[0;34m\u001b[0m\u001b[0m\n\u001b[1;32m    535\u001b[0m         \u001b[0;32mreturn\u001b[0m \u001b[0mresp\u001b[0m\u001b[0;34m\u001b[0m\u001b[0;34m\u001b[0m\u001b[0m\n",
            "\u001b[0;32m/usr/local/lib/python3.6/dist-packages/requests/sessions.py\u001b[0m in \u001b[0;36msend\u001b[0;34m(self, request, **kwargs)\u001b[0m\n\u001b[1;32m    684\u001b[0m \u001b[0;34m\u001b[0m\u001b[0m\n\u001b[1;32m    685\u001b[0m         \u001b[0;32mif\u001b[0m \u001b[0;32mnot\u001b[0m \u001b[0mstream\u001b[0m\u001b[0;34m:\u001b[0m\u001b[0;34m\u001b[0m\u001b[0;34m\u001b[0m\u001b[0m\n\u001b[0;32m--> 686\u001b[0;31m             \u001b[0mr\u001b[0m\u001b[0;34m.\u001b[0m\u001b[0mcontent\u001b[0m\u001b[0;34m\u001b[0m\u001b[0;34m\u001b[0m\u001b[0m\n\u001b[0m\u001b[1;32m    687\u001b[0m \u001b[0;34m\u001b[0m\u001b[0m\n\u001b[1;32m    688\u001b[0m         \u001b[0;32mreturn\u001b[0m \u001b[0mr\u001b[0m\u001b[0;34m\u001b[0m\u001b[0;34m\u001b[0m\u001b[0m\n",
            "\u001b[0;32m/usr/local/lib/python3.6/dist-packages/requests/models.py\u001b[0m in \u001b[0;36mcontent\u001b[0;34m(self)\u001b[0m\n\u001b[1;32m    826\u001b[0m                 \u001b[0mself\u001b[0m\u001b[0;34m.\u001b[0m\u001b[0m_content\u001b[0m \u001b[0;34m=\u001b[0m \u001b[0;32mNone\u001b[0m\u001b[0;34m\u001b[0m\u001b[0;34m\u001b[0m\u001b[0m\n\u001b[1;32m    827\u001b[0m             \u001b[0;32melse\u001b[0m\u001b[0;34m:\u001b[0m\u001b[0;34m\u001b[0m\u001b[0;34m\u001b[0m\u001b[0m\n\u001b[0;32m--> 828\u001b[0;31m                 \u001b[0mself\u001b[0m\u001b[0;34m.\u001b[0m\u001b[0m_content\u001b[0m \u001b[0;34m=\u001b[0m \u001b[0;34mb''\u001b[0m\u001b[0;34m.\u001b[0m\u001b[0mjoin\u001b[0m\u001b[0;34m(\u001b[0m\u001b[0mself\u001b[0m\u001b[0;34m.\u001b[0m\u001b[0miter_content\u001b[0m\u001b[0;34m(\u001b[0m\u001b[0mCONTENT_CHUNK_SIZE\u001b[0m\u001b[0;34m)\u001b[0m\u001b[0;34m)\u001b[0m \u001b[0;32mor\u001b[0m \u001b[0;34mb''\u001b[0m\u001b[0;34m\u001b[0m\u001b[0;34m\u001b[0m\u001b[0m\n\u001b[0m\u001b[1;32m    829\u001b[0m \u001b[0;34m\u001b[0m\u001b[0m\n\u001b[1;32m    830\u001b[0m         \u001b[0mself\u001b[0m\u001b[0;34m.\u001b[0m\u001b[0m_content_consumed\u001b[0m \u001b[0;34m=\u001b[0m \u001b[0;32mTrue\u001b[0m\u001b[0;34m\u001b[0m\u001b[0;34m\u001b[0m\u001b[0m\n",
            "\u001b[0;32m/usr/local/lib/python3.6/dist-packages/requests/models.py\u001b[0m in \u001b[0;36mgenerate\u001b[0;34m()\u001b[0m\n\u001b[1;32m    748\u001b[0m             \u001b[0;32mif\u001b[0m \u001b[0mhasattr\u001b[0m\u001b[0;34m(\u001b[0m\u001b[0mself\u001b[0m\u001b[0;34m.\u001b[0m\u001b[0mraw\u001b[0m\u001b[0;34m,\u001b[0m \u001b[0;34m'stream'\u001b[0m\u001b[0;34m)\u001b[0m\u001b[0;34m:\u001b[0m\u001b[0;34m\u001b[0m\u001b[0;34m\u001b[0m\u001b[0m\n\u001b[1;32m    749\u001b[0m                 \u001b[0;32mtry\u001b[0m\u001b[0;34m:\u001b[0m\u001b[0;34m\u001b[0m\u001b[0;34m\u001b[0m\u001b[0m\n\u001b[0;32m--> 750\u001b[0;31m                     \u001b[0;32mfor\u001b[0m \u001b[0mchunk\u001b[0m \u001b[0;32min\u001b[0m \u001b[0mself\u001b[0m\u001b[0;34m.\u001b[0m\u001b[0mraw\u001b[0m\u001b[0;34m.\u001b[0m\u001b[0mstream\u001b[0m\u001b[0;34m(\u001b[0m\u001b[0mchunk_size\u001b[0m\u001b[0;34m,\u001b[0m \u001b[0mdecode_content\u001b[0m\u001b[0;34m=\u001b[0m\u001b[0;32mTrue\u001b[0m\u001b[0;34m)\u001b[0m\u001b[0;34m:\u001b[0m\u001b[0;34m\u001b[0m\u001b[0;34m\u001b[0m\u001b[0m\n\u001b[0m\u001b[1;32m    751\u001b[0m                         \u001b[0;32myield\u001b[0m \u001b[0mchunk\u001b[0m\u001b[0;34m\u001b[0m\u001b[0;34m\u001b[0m\u001b[0m\n\u001b[1;32m    752\u001b[0m                 \u001b[0;32mexcept\u001b[0m \u001b[0mProtocolError\u001b[0m \u001b[0;32mas\u001b[0m \u001b[0me\u001b[0m\u001b[0;34m:\u001b[0m\u001b[0;34m\u001b[0m\u001b[0;34m\u001b[0m\u001b[0m\n",
            "\u001b[0;32m/usr/local/lib/python3.6/dist-packages/urllib3/response.py\u001b[0m in \u001b[0;36mstream\u001b[0;34m(self, amt, decode_content)\u001b[0m\n\u001b[1;32m    490\u001b[0m         \"\"\"\n\u001b[1;32m    491\u001b[0m         \u001b[0;32mif\u001b[0m \u001b[0mself\u001b[0m\u001b[0;34m.\u001b[0m\u001b[0mchunked\u001b[0m \u001b[0;32mand\u001b[0m \u001b[0mself\u001b[0m\u001b[0;34m.\u001b[0m\u001b[0msupports_chunked_reads\u001b[0m\u001b[0;34m(\u001b[0m\u001b[0;34m)\u001b[0m\u001b[0;34m:\u001b[0m\u001b[0;34m\u001b[0m\u001b[0;34m\u001b[0m\u001b[0m\n\u001b[0;32m--> 492\u001b[0;31m             \u001b[0;32mfor\u001b[0m \u001b[0mline\u001b[0m \u001b[0;32min\u001b[0m \u001b[0mself\u001b[0m\u001b[0;34m.\u001b[0m\u001b[0mread_chunked\u001b[0m\u001b[0;34m(\u001b[0m\u001b[0mamt\u001b[0m\u001b[0;34m,\u001b[0m \u001b[0mdecode_content\u001b[0m\u001b[0;34m=\u001b[0m\u001b[0mdecode_content\u001b[0m\u001b[0;34m)\u001b[0m\u001b[0;34m:\u001b[0m\u001b[0;34m\u001b[0m\u001b[0;34m\u001b[0m\u001b[0m\n\u001b[0m\u001b[1;32m    493\u001b[0m                 \u001b[0;32myield\u001b[0m \u001b[0mline\u001b[0m\u001b[0;34m\u001b[0m\u001b[0;34m\u001b[0m\u001b[0m\n\u001b[1;32m    494\u001b[0m         \u001b[0;32melse\u001b[0m\u001b[0;34m:\u001b[0m\u001b[0;34m\u001b[0m\u001b[0;34m\u001b[0m\u001b[0m\n",
            "\u001b[0;32m/usr/local/lib/python3.6/dist-packages/urllib3/response.py\u001b[0m in \u001b[0;36mread_chunked\u001b[0;34m(self, amt, decode_content)\u001b[0m\n\u001b[1;32m    666\u001b[0m \u001b[0;34m\u001b[0m\u001b[0m\n\u001b[1;32m    667\u001b[0m             \u001b[0;32mwhile\u001b[0m \u001b[0;32mTrue\u001b[0m\u001b[0;34m:\u001b[0m\u001b[0;34m\u001b[0m\u001b[0;34m\u001b[0m\u001b[0m\n\u001b[0;32m--> 668\u001b[0;31m                 \u001b[0mself\u001b[0m\u001b[0;34m.\u001b[0m\u001b[0m_update_chunk_length\u001b[0m\u001b[0;34m(\u001b[0m\u001b[0;34m)\u001b[0m\u001b[0;34m\u001b[0m\u001b[0;34m\u001b[0m\u001b[0m\n\u001b[0m\u001b[1;32m    669\u001b[0m                 \u001b[0;32mif\u001b[0m \u001b[0mself\u001b[0m\u001b[0;34m.\u001b[0m\u001b[0mchunk_left\u001b[0m \u001b[0;34m==\u001b[0m \u001b[0;36m0\u001b[0m\u001b[0;34m:\u001b[0m\u001b[0;34m\u001b[0m\u001b[0;34m\u001b[0m\u001b[0m\n\u001b[1;32m    670\u001b[0m                     \u001b[0;32mbreak\u001b[0m\u001b[0;34m\u001b[0m\u001b[0;34m\u001b[0m\u001b[0m\n",
            "\u001b[0;32m/usr/local/lib/python3.6/dist-packages/urllib3/response.py\u001b[0m in \u001b[0;36m_update_chunk_length\u001b[0;34m(self)\u001b[0m\n\u001b[1;32m    598\u001b[0m         \u001b[0;32mif\u001b[0m \u001b[0mself\u001b[0m\u001b[0;34m.\u001b[0m\u001b[0mchunk_left\u001b[0m \u001b[0;32mis\u001b[0m \u001b[0;32mnot\u001b[0m \u001b[0;32mNone\u001b[0m\u001b[0;34m:\u001b[0m\u001b[0;34m\u001b[0m\u001b[0;34m\u001b[0m\u001b[0m\n\u001b[1;32m    599\u001b[0m             \u001b[0;32mreturn\u001b[0m\u001b[0;34m\u001b[0m\u001b[0;34m\u001b[0m\u001b[0m\n\u001b[0;32m--> 600\u001b[0;31m         \u001b[0mline\u001b[0m \u001b[0;34m=\u001b[0m \u001b[0mself\u001b[0m\u001b[0;34m.\u001b[0m\u001b[0m_fp\u001b[0m\u001b[0;34m.\u001b[0m\u001b[0mfp\u001b[0m\u001b[0;34m.\u001b[0m\u001b[0mreadline\u001b[0m\u001b[0;34m(\u001b[0m\u001b[0;34m)\u001b[0m\u001b[0;34m\u001b[0m\u001b[0;34m\u001b[0m\u001b[0m\n\u001b[0m\u001b[1;32m    601\u001b[0m         \u001b[0mline\u001b[0m \u001b[0;34m=\u001b[0m \u001b[0mline\u001b[0m\u001b[0;34m.\u001b[0m\u001b[0msplit\u001b[0m\u001b[0;34m(\u001b[0m\u001b[0;34mb';'\u001b[0m\u001b[0;34m,\u001b[0m \u001b[0;36m1\u001b[0m\u001b[0;34m)\u001b[0m\u001b[0;34m[\u001b[0m\u001b[0;36m0\u001b[0m\u001b[0;34m]\u001b[0m\u001b[0;34m\u001b[0m\u001b[0;34m\u001b[0m\u001b[0m\n\u001b[1;32m    602\u001b[0m         \u001b[0;32mtry\u001b[0m\u001b[0;34m:\u001b[0m\u001b[0;34m\u001b[0m\u001b[0;34m\u001b[0m\u001b[0m\n",
            "\u001b[0;32m/usr/lib/python3.6/socket.py\u001b[0m in \u001b[0;36mreadinto\u001b[0;34m(self, b)\u001b[0m\n\u001b[1;32m    584\u001b[0m         \u001b[0;32mwhile\u001b[0m \u001b[0;32mTrue\u001b[0m\u001b[0;34m:\u001b[0m\u001b[0;34m\u001b[0m\u001b[0;34m\u001b[0m\u001b[0m\n\u001b[1;32m    585\u001b[0m             \u001b[0;32mtry\u001b[0m\u001b[0;34m:\u001b[0m\u001b[0;34m\u001b[0m\u001b[0;34m\u001b[0m\u001b[0m\n\u001b[0;32m--> 586\u001b[0;31m                 \u001b[0;32mreturn\u001b[0m \u001b[0mself\u001b[0m\u001b[0;34m.\u001b[0m\u001b[0m_sock\u001b[0m\u001b[0;34m.\u001b[0m\u001b[0mrecv_into\u001b[0m\u001b[0;34m(\u001b[0m\u001b[0mb\u001b[0m\u001b[0;34m)\u001b[0m\u001b[0;34m\u001b[0m\u001b[0;34m\u001b[0m\u001b[0m\n\u001b[0m\u001b[1;32m    587\u001b[0m             \u001b[0;32mexcept\u001b[0m \u001b[0mtimeout\u001b[0m\u001b[0;34m:\u001b[0m\u001b[0;34m\u001b[0m\u001b[0;34m\u001b[0m\u001b[0m\n\u001b[1;32m    588\u001b[0m                 \u001b[0mself\u001b[0m\u001b[0;34m.\u001b[0m\u001b[0m_timeout_occurred\u001b[0m \u001b[0;34m=\u001b[0m \u001b[0;32mTrue\u001b[0m\u001b[0;34m\u001b[0m\u001b[0;34m\u001b[0m\u001b[0m\n",
            "\u001b[0;31mKeyboardInterrupt\u001b[0m: "
          ]
        }
      ]
    },
    {
      "cell_type": "markdown",
      "metadata": {
        "id": "JXnMwvsBPEn3",
        "colab_type": "text"
      },
      "source": [
        "## Capture Missing Menu Images\n",
        "\n",
        "When inspecting our images, some of them have a 1kb size. In this section, we repeat the imageCapture process, but we download large_src_2, instead of large_src"
      ]
    },
    {
      "cell_type": "code",
      "metadata": {
        "id": "awbzRcOI5X36",
        "colab_type": "code",
        "colab": {},
        "outputId": "f2b34ffc-bb36-4e45-a650-bbf019e11f23"
      },
      "source": [
        "# See what entries have dish items\n",
        "for i in range(len(json_list)):\n",
        "    try:\n",
        "        print('Entry number ' + str(i) + ' Dish Count: ', json_list[i]['dish_count'])\n",
        "    except:\n",
        "        print('Skipped list entry number  ', str(i))"
      ],
      "execution_count": 0,
      "outputs": [
        {
          "output_type": "stream",
          "text": [
            "Entry number 0 Dish Count:  0\n",
            "Entry number 1 Dish Count:  0\n",
            "Entry number 2 Dish Count:  0\n",
            "Entry number 3 Dish Count:  0\n",
            "Entry number 4 Dish Count:  0\n",
            "Skipped list entry number   5\n",
            "Entry number 6 Dish Count:  0\n",
            "Entry number 7 Dish Count:  0\n",
            "Entry number 8 Dish Count:  0\n",
            "Skipped list entry number   9\n",
            "Skipped list entry number   10\n",
            "Entry number 11 Dish Count:  140\n",
            "Entry number 12 Dish Count:  189\n",
            "Entry number 13 Dish Count:  41\n",
            "Entry number 14 Dish Count:  14\n",
            "Entry number 15 Dish Count:  17\n",
            "Entry number 16 Dish Count:  0\n",
            "Skipped list entry number   17\n",
            "Entry number 18 Dish Count:  0\n",
            "Entry number 19 Dish Count:  0\n",
            "Entry number 20 Dish Count:  0\n",
            "Entry number 21 Dish Count:  14\n",
            "Entry number 22 Dish Count:  12\n",
            "Entry number 23 Dish Count:  18\n",
            "Entry number 24 Dish Count:  12\n",
            "Entry number 25 Dish Count:  0\n",
            "Skipped list entry number   26\n",
            "Skipped list entry number   27\n",
            "Entry number 28 Dish Count:  0\n",
            "Entry number 29 Dish Count:  165\n",
            "Entry number 30 Dish Count:  10\n",
            "Entry number 31 Dish Count:  141\n",
            "Entry number 32 Dish Count:  0\n",
            "Entry number 33 Dish Count:  18\n",
            "Entry number 34 Dish Count:  0\n",
            "Entry number 35 Dish Count:  0\n",
            "Entry number 36 Dish Count:  0\n",
            "Skipped list entry number   37\n",
            "Skipped list entry number   38\n",
            "Skipped list entry number   39\n",
            "Skipped list entry number   40\n",
            "Skipped list entry number   41\n",
            "Skipped list entry number   42\n",
            "Entry number 43 Dish Count:  13\n",
            "Entry number 44 Dish Count:  0\n",
            "Entry number 45 Dish Count:  0\n",
            "Entry number 46 Dish Count:  18\n",
            "Skipped list entry number   47\n",
            "Skipped list entry number   48\n",
            "Entry number 49 Dish Count:  0\n",
            "Entry number 50 Dish Count:  10\n",
            "Entry number 51 Dish Count:  13\n",
            "Entry number 52 Dish Count:  0\n",
            "Skipped list entry number   53\n",
            "Skipped list entry number   54\n",
            "Skipped list entry number   55\n",
            "Skipped list entry number   56\n",
            "Skipped list entry number   57\n",
            "Entry number 58 Dish Count:  9\n",
            "Skipped list entry number   59\n",
            "Entry number 60 Dish Count:  0\n",
            "Entry number 61 Dish Count:  16\n",
            "Entry number 62 Dish Count:  21\n",
            "Entry number 63 Dish Count:  13\n",
            "Skipped list entry number   64\n",
            "Skipped list entry number   65\n",
            "Skipped list entry number   66\n",
            "Entry number 67 Dish Count:  0\n",
            "Skipped list entry number   68\n",
            "Entry number 69 Dish Count:  0\n",
            "Entry number 70 Dish Count:  0\n",
            "Entry number 71 Dish Count:  19\n",
            "Entry number 72 Dish Count:  0\n",
            "Entry number 73 Dish Count:  32\n",
            "Entry number 74 Dish Count:  15\n",
            "Entry number 75 Dish Count:  10\n",
            "Entry number 76 Dish Count:  0\n",
            "Skipped list entry number   77\n",
            "Entry number 78 Dish Count:  0\n",
            "Skipped list entry number   79\n",
            "Entry number 80 Dish Count:  0\n",
            "Entry number 81 Dish Count:  0\n",
            "Entry number 82 Dish Count:  0\n",
            "Entry number 83 Dish Count:  0\n",
            "Entry number 84 Dish Count:  0\n",
            "Entry number 85 Dish Count:  0\n",
            "Entry number 86 Dish Count:  0\n",
            "Entry number 87 Dish Count:  0\n",
            "Entry number 88 Dish Count:  0\n",
            "Entry number 89 Dish Count:  0\n",
            "Entry number 90 Dish Count:  0\n",
            "Entry number 91 Dish Count:  0\n",
            "Entry number 92 Dish Count:  0\n",
            "Entry number 93 Dish Count:  0\n",
            "Entry number 94 Dish Count:  0\n",
            "Entry number 95 Dish Count:  0\n",
            "Entry number 96 Dish Count:  0\n",
            "Entry number 97 Dish Count:  0\n",
            "Entry number 98 Dish Count:  0\n",
            "Entry number 99 Dish Count:  0\n"
          ],
          "name": "stdout"
        }
      ]
    },
    {
      "cell_type": "code",
      "metadata": {
        "id": "3g3F329n5X38",
        "colab_type": "code",
        "colab": {},
        "outputId": "508fe1d2-ce8c-4939-97d0-fe6882024642"
      },
      "source": [
        "imageCapture(urlList=reCaptureURL, id_list=imageList, src='large_src_jp2')"
      ],
      "execution_count": 0,
      "outputs": [
        {
          "output_type": "stream",
          "text": [
            "Response was not okay\n",
            "On loop iteration:  0\n",
            "Response was not okay\n",
            "On loop iteration:  1\n",
            "Response was not okay\n",
            "On loop iteration:  2\n",
            "Completed Loop Iteration 3 of 100\n",
            "Response was not okay\n",
            "On loop iteration:  4\n",
            "Response was not okay\n",
            "On loop iteration:  5\n",
            "Response was not okay\n",
            "On loop iteration:  6\n",
            "Completed Loop Iteration 7 of 100\n",
            "Response was not okay\n",
            "On loop iteration:  8\n",
            "Response was not okay\n",
            "On loop iteration:  9\n",
            "Completed Loop Iteration 10 of 100\n",
            "Completed Loop Iteration 11 of 100\n",
            "Completed Loop Iteration 12 of 100\n",
            "Completed Loop Iteration 13 of 100\n",
            "Completed Loop Iteration 14 of 100\n",
            "Completed Loop Iteration 15 of 100\n",
            "Response was not okay\n",
            "On loop iteration:  16\n",
            "Response was not okay\n",
            "On loop iteration:  17\n",
            "Response was not okay\n",
            "On loop iteration:  18\n",
            "Response was not okay\n",
            "On loop iteration:  19\n",
            "Response was not okay\n",
            "On loop iteration:  20\n",
            "Completed Loop Iteration 21 of 100\n",
            "Completed Loop Iteration 22 of 100\n",
            "Completed Loop Iteration 23 of 100\n",
            "Completed Loop Iteration 24 of 100\n",
            "Response was not okay\n",
            "On loop iteration:  25\n",
            "Response was not okay\n",
            "On loop iteration:  26\n",
            "Response was not okay\n",
            "On loop iteration:  27\n",
            "Response was not okay\n",
            "On loop iteration:  28\n",
            "Completed Loop Iteration 29 of 100\n",
            "Completed Loop Iteration 30 of 100\n",
            "Completed Loop Iteration 31 of 100\n",
            "Response was not okay\n",
            "On loop iteration:  32\n",
            "Completed Loop Iteration 33 of 100\n",
            "Response was not okay\n",
            "On loop iteration:  34\n",
            "Response was not okay\n",
            "On loop iteration:  35\n",
            "Response was not okay\n",
            "On loop iteration:  36\n",
            "Completed Loop Iteration 37 of 100\n",
            "Completed Loop Iteration 38 of 100\n",
            "Response was not okay\n",
            "On loop iteration:  39\n",
            "Response was not okay\n",
            "On loop iteration:  40\n",
            "Response was not okay\n",
            "On loop iteration:  41\n",
            "Completed Loop Iteration 42 of 100\n",
            "Completed Loop Iteration 43 of 100\n",
            "Response was not okay\n",
            "On loop iteration:  44\n",
            "Completed Loop Iteration 45 of 100\n",
            "Completed Loop Iteration 46 of 100\n",
            "Completed Loop Iteration 47 of 100\n",
            "Response was not okay\n",
            "On loop iteration:  48\n",
            "Response was not okay\n",
            "On loop iteration:  49\n",
            "Completed Loop Iteration 50 of 100\n",
            "Completed Loop Iteration 51 of 100\n",
            "Response was not okay\n",
            "On loop iteration:  52\n",
            "Completed Loop Iteration 53 of 100\n",
            "Response was not okay\n",
            "On loop iteration:  54\n",
            "Response was not okay\n",
            "On loop iteration:  55\n",
            "Completed Loop Iteration 56 of 100\n",
            "Completed Loop Iteration 57 of 100\n",
            "Completed Loop Iteration 58 of 100\n",
            "Completed Loop Iteration 59 of 100\n",
            "Response was not okay\n",
            "On loop iteration:  60\n",
            "Completed Loop Iteration 61 of 100\n",
            "Completed Loop Iteration 62 of 100\n",
            "Completed Loop Iteration 63 of 100\n",
            "Response was not okay\n",
            "On loop iteration:  64\n",
            "Response was not okay\n",
            "On loop iteration:  65\n",
            "Completed Loop Iteration 66 of 100\n",
            "Response was not okay\n",
            "On loop iteration:  67\n",
            "Response was not okay\n",
            "On loop iteration:  68\n",
            "Response was not okay\n",
            "On loop iteration:  69\n",
            "Response was not okay\n",
            "On loop iteration:  70\n",
            "Completed Loop Iteration 71 of 100\n",
            "Response was not okay\n",
            "On loop iteration:  72\n",
            "Completed Loop Iteration 73 of 100\n",
            "Completed Loop Iteration 74 of 100\n",
            "Completed Loop Iteration 75 of 100\n",
            "Response was not okay\n",
            "On loop iteration:  76\n",
            "Completed Loop Iteration 77 of 100\n",
            "Response was not okay\n",
            "On loop iteration:  78\n",
            "Response was not okay\n",
            "On loop iteration:  79\n",
            "Completed Loop Iteration 80 of 100\n",
            "Response was not okay\n",
            "On loop iteration:  81\n",
            "Response was not okay\n",
            "On loop iteration:  82\n",
            "Response was not okay\n",
            "On loop iteration:  83\n",
            "Response was not okay\n",
            "On loop iteration:  84\n",
            "Response was not okay\n",
            "On loop iteration:  85\n",
            "Response was not okay\n",
            "On loop iteration:  86\n",
            "Response was not okay\n",
            "On loop iteration:  87\n",
            "Response was not okay\n",
            "On loop iteration:  88\n",
            "Response was not okay\n",
            "On loop iteration:  89\n",
            "Response was not okay\n",
            "On loop iteration:  90\n",
            "Response was not okay\n",
            "On loop iteration:  91\n",
            "Response was not okay\n",
            "On loop iteration:  92\n",
            "Response was not okay\n",
            "On loop iteration:  93\n",
            "Response was not okay\n",
            "On loop iteration:  94\n",
            "Response was not okay\n",
            "On loop iteration:  95\n",
            "Response was not okay\n",
            "On loop iteration:  96\n",
            "Response was not okay\n",
            "On loop iteration:  97\n",
            "Response was not okay\n",
            "On loop iteration:  98\n",
            "Response was not okay\n",
            "On loop iteration:  99\n",
            "Done\n"
          ],
          "name": "stdout"
        },
        {
          "output_type": "execute_result",
          "data": {
            "text/plain": [
              "0"
            ]
          },
          "metadata": {
            "tags": []
          },
          "execution_count": 224
        }
      ]
    },
    {
      "cell_type": "code",
      "metadata": {
        "id": "mhPD_PeE5X3_",
        "colab_type": "code",
        "colab": {},
        "outputId": "5eddea80-37b8-44f4-fc39-b522c4754fcc"
      },
      "source": [
        "for i in range(len(json_list)):\n",
        "    try:\n",
        "        print('Entry number ' + str(i) + ' Dish Count: ', json_list[i]['dish_count'])\n",
        "    except:\n",
        "        print('Skipped list entry number  ', str(i))"
      ],
      "execution_count": 0,
      "outputs": [
        {
          "output_type": "stream",
          "text": [
            "Entry number 0 Dish Count:  0\n",
            "Entry number 1 Dish Count:  0\n",
            "Entry number 2 Dish Count:  0\n",
            "Entry number 3 Dish Count:  0\n",
            "Entry number 4 Dish Count:  0\n",
            "Entry number 5 Dish Count:  0\n",
            "Entry number 6 Dish Count:  0\n",
            "Entry number 7 Dish Count:  0\n",
            "Entry number 8 Dish Count:  0\n",
            "Entry number 9 Dish Count:  0\n",
            "Entry number 10 Dish Count:  0\n",
            "Entry number 11 Dish Count:  0\n",
            "Entry number 12 Dish Count:  0\n",
            "Entry number 13 Dish Count:  0\n",
            "Entry number 14 Dish Count:  0\n",
            "Entry number 15 Dish Count:  0\n",
            "Entry number 16 Dish Count:  0\n",
            "Entry number 17 Dish Count:  0\n",
            "Entry number 18 Dish Count:  0\n",
            "Entry number 19 Dish Count:  0\n",
            "Entry number 20 Dish Count:  0\n",
            "Entry number 21 Dish Count:  0\n",
            "Entry number 22 Dish Count:  0\n",
            "Entry number 23 Dish Count:  0\n",
            "Entry number 24 Dish Count:  0\n",
            "Entry number 25 Dish Count:  0\n",
            "Entry number 26 Dish Count:  0\n",
            "Entry number 27 Dish Count:  0\n",
            "Entry number 28 Dish Count:  0\n",
            "Entry number 29 Dish Count:  0\n",
            "Entry number 30 Dish Count:  0\n",
            "Entry number 31 Dish Count:  0\n",
            "Entry number 32 Dish Count:  0\n",
            "Entry number 33 Dish Count:  0\n",
            "Entry number 34 Dish Count:  0\n",
            "Entry number 35 Dish Count:  0\n",
            "Entry number 36 Dish Count:  0\n",
            "Entry number 37 Dish Count:  0\n",
            "Entry number 38 Dish Count:  0\n",
            "Entry number 39 Dish Count:  0\n",
            "Entry number 40 Dish Count:  0\n",
            "Entry number 41 Dish Count:  0\n",
            "Entry number 42 Dish Count:  0\n",
            "Entry number 43 Dish Count:  0\n",
            "Entry number 44 Dish Count:  0\n",
            "Entry number 45 Dish Count:  0\n",
            "Entry number 46 Dish Count:  0\n",
            "Entry number 47 Dish Count:  0\n",
            "Entry number 48 Dish Count:  0\n",
            "Entry number 49 Dish Count:  0\n",
            "Entry number 50 Dish Count:  0\n",
            "Entry number 51 Dish Count:  0\n",
            "Entry number 52 Dish Count:  0\n",
            "Entry number 53 Dish Count:  0\n",
            "Entry number 54 Dish Count:  0\n",
            "Entry number 55 Dish Count:  0\n",
            "Entry number 56 Dish Count:  0\n",
            "Entry number 57 Dish Count:  0\n",
            "Entry number 58 Dish Count:  0\n",
            "Entry number 59 Dish Count:  0\n"
          ],
          "name": "stdout"
        }
      ]
    },
    {
      "cell_type": "markdown",
      "metadata": {
        "id": "hjbCt6V75X4B",
        "colab_type": "text"
      },
      "source": [
        "Now that all data has been collected that contains dishes, we can move onto the next step"
      ]
    }
  ]
}